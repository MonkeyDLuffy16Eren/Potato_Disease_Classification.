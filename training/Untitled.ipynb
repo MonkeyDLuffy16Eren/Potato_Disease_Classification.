{
 "cells": [
  {
   "cell_type": "code",
   "execution_count": 1,
   "id": "6b7ff712-ce96-4260-88fc-c6a3fb7dc82b",
   "metadata": {},
   "outputs": [],
   "source": [
    "import tensorflow as tf\n",
    "from tensorflow.keras import models, layers\n",
    "import matplotlib.pyplot as plt\n",
    "from IPython.display import HTML  \n",
    "\n",
    "\n"
   ]
  },
  {
   "cell_type": "code",
   "execution_count": 11,
   "id": "812d224d-189d-4463-b110-4e8842c650a3",
   "metadata": {},
   "outputs": [
    {
     "name": "stdout",
     "output_type": "stream",
     "text": [
      "Found 1506 images belonging to 3 classes.\n",
      "Augmented images will be saved in: C:\\Potato-disease\\training/AugmentedImages\n"
     ]
    }
   ],
   "source": [
    "import os\n",
    "from tensorflow.keras.preprocessing.image import ImageDataGenerator\n",
    "\n",
    "IMAGE_SIZE = 256\n",
    "CHANNELS = 3\n",
    "\n",
    "train_datagen = ImageDataGenerator(\n",
    "    rescale=1./255,\n",
    "    horizontal_flip=True,\n",
    "    rotation_range=10\n",
    ")\n",
    "train_generator = train_datagen.flow_from_directory(\n",
    "    'dataset/train',\n",
    "    target_size=(IMAGE_SIZE, IMAGE_SIZE),\n",
    "    batch_size=32,\n",
    "    class_mode='sparse',\n",
    "    save_to_dir=\"AugmentedImages\"\n",
    ")\n",
    "print(f\"Augmented images will be saved in: {os.getcwd()}/AugmentedImages\")"
   ]
  },
  {
   "cell_type": "code",
   "execution_count": 8,
   "id": "24461798-4c40-4bbe-9280-2493610af4e9",
   "metadata": {},
   "outputs": [
    {
     "name": "stdout",
     "output_type": "stream",
     "text": [
      "Found 1506 images belonging to 3 classes.\n",
      "Augmented images will be saved in: C:\\Potato-disease\\training/AugmentedImages\n"
     ]
    }
   ],
   "source": [
    "import os\n",
    "from tensorflow.keras.preprocessing.image import ImageDataGenerator\n",
    "\n",
    "IMAGE_SIZE = 256\n",
    "CHANNELS = 3\n",
    "\n",
    "train_datagen = ImageDataGenerator(\n",
    "    rescale=1./255,\n",
    "    horizontal_flip=True,\n",
    "    rotation_range=10\n",
    ")\n",
    "train_generator = train_datagen.flow_from_directory(\n",
    "    'dataset/train',\n",
    "    target_size=(IMAGE_SIZE, IMAGE_SIZE),\n",
    "    batch_size=32,\n",
    "    class_mode='sparse',\n",
    "    save_to_dir=\"AugmentedImages\"\n",
    ")\n",
    "print(f\"Augmented images will be saved in: {os.getcwd()}/AugmentedImages\")"
   ]
  },
  {
   "cell_type": "code",
   "execution_count": 4,
   "id": "68c8d811-b649-4063-b268-8685be888304",
   "metadata": {},
   "outputs": [
    {
     "name": "stdout",
     "output_type": "stream",
     "text": [
      "C:\\Potato-disease\\training\n"
     ]
    }
   ],
   "source": [
    "import os\n",
    "print(os.getcwd())  # Print current working directory\n"
   ]
  },
  {
   "cell_type": "code",
   "execution_count": 9,
   "id": "349cb639-eb54-40a4-aa41-8e70d0f1bbe6",
   "metadata": {},
   "outputs": [],
   "source": [
    "# Absolute path to the folder where augmented images should be saved\n",
    "save_to_dir = os.path.join('C:', 'Potato-disease', 'training', 'AugmentedImages')\n"
   ]
  },
  {
   "cell_type": "code",
   "execution_count": 7,
   "id": "c8be783a-34b0-49b3-8246-b2c89f26121f",
   "metadata": {},
   "outputs": [
    {
     "name": "stdout",
     "output_type": "stream",
     "text": [
      "Augmented images will be saved in: C:\\Potato-disease\\training\\AugmentedImages\n"
     ]
    }
   ],
   "source": [
    "import os\n",
    "\n",
    "# Create the 'AugmentedImages' directory if it does not exist\n",
    "augmented_images_dir = os.path.join(os.getcwd(), 'AugmentedImages')\n",
    "if not os.path.exists(augmented_images_dir):\n",
    "    os.makedirs(augmented_images_dir)\n",
    "\n",
    "print(f\"Augmented images will be saved in: {augmented_images_dir}\")\n",
    "\n"
   ]
  },
  {
   "cell_type": "code",
   "execution_count": 10,
   "id": "76c66b16-80f5-470e-80e5-4d7e3c09a3d1",
   "metadata": {},
   "outputs": [],
   "source": [
    "save_to_dir = './AugmentedImages'  # Use the current working directory\n"
   ]
  },
  {
   "cell_type": "code",
   "execution_count": null,
   "id": "c7d7884b-dd23-4c99-83e4-9a4c131f94ab",
   "metadata": {},
   "outputs": [],
   "source": []
  }
 ],
 "metadata": {
  "kernelspec": {
   "display_name": "Python 3 (ipykernel)",
   "language": "python",
   "name": "python3"
  },
  "language_info": {
   "codemirror_mode": {
    "name": "ipython",
    "version": 3
   },
   "file_extension": ".py",
   "mimetype": "text/x-python",
   "name": "python",
   "nbconvert_exporter": "python",
   "pygments_lexer": "ipython3",
   "version": "3.12.6"
  }
 },
 "nbformat": 4,
 "nbformat_minor": 5
}
